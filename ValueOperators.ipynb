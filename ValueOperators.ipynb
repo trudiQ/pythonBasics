{
 "cells": [
  {
   "cell_type": "markdown",
   "id": "automated-deposit",
   "metadata": {},
   "source": [
    "# Values & Operators "
   ]
  },
  {
   "cell_type": "markdown",
   "id": "novel-people",
   "metadata": {},
   "source": [
    "## Every value has a type\n",
    "- Every value in a program has a specific type\n",
    "- Integer (<b>int</b>): represents positive or negative whole numbers like 3 or -5\n",
    "- Floating point number (<b>float</b>): represents real numbers like 3.14 or -2.5"
   ]
  },
  {
   "cell_type": "markdown",
   "id": "strategic-latino",
   "metadata": {},
   "source": [
    "## Operators\n",
    "- Addition: <b>+<b>  <br>\n",
    "- Subtraction: <b>-<b>  <br>\n",
    "- Multiplication: <b>*<b>  <br>\n",
    "- Division: <b>/<b>  <br>\n",
    "- Quotient: <b>//<b>  <br>\n",
    "- Remainder: <b>%<b>  <br>\n",
    "- Exponential: <b>**<b>  <br>"
   ]
  },
  {
   "cell_type": "code",
   "execution_count": null,
   "id": "passing-century",
   "metadata": {},
   "outputs": [],
   "source": [
    "3 + 5"
   ]
  },
  {
   "cell_type": "code",
   "execution_count": null,
   "id": "forced-beach",
   "metadata": {},
   "outputs": [],
   "source": [
    "3 + 5.0  # operations involving float results in a float"
   ]
  },
  {
   "cell_type": "code",
   "execution_count": null,
   "id": "plain-produce",
   "metadata": {},
   "outputs": [],
   "source": [
    "6 / 3     # division always results in float"
   ]
  },
  {
   "cell_type": "code",
   "execution_count": null,
   "id": "academic-judges",
   "metadata": {},
   "outputs": [],
   "source": [
    "17 / 3  # 17 is not divisible by 3\n",
    "        # floats have limited number of digits"
   ]
  },
  {
   "cell_type": "code",
   "execution_count": 2,
   "id": "filled-three",
   "metadata": {},
   "outputs": [
    {
     "data": {
      "text/plain": [
       "5"
      ]
     },
     "execution_count": 2,
     "metadata": {},
     "output_type": "execute_result"
    }
   ],
   "source": [
    "17 // 3 # quotient: how many times 3 appears in 17\n",
    "        #     always yields an integter\n",
    "        # quotient is also called \"floor division\" "
   ]
  },
  {
   "cell_type": "code",
   "execution_count": null,
   "id": "still-million",
   "metadata": {},
   "outputs": [],
   "source": [
    "17 % 3 # % returns the remainder of the division \n",
    "       # = 17 - 5 * 3 = 2 (remainder)"
   ]
  },
  {
   "cell_type": "code",
   "execution_count": null,
   "id": "introductory-orleans",
   "metadata": {},
   "outputs": [],
   "source": [
    "6.0 // 3  # operations involving float results in a float"
   ]
  },
  {
   "cell_type": "code",
   "execution_count": null,
   "id": "spanish-surge",
   "metadata": {},
   "outputs": [],
   "source": [
    "6.0 % 3"
   ]
  },
  {
   "cell_type": "code",
   "execution_count": null,
   "id": "sized-policy",
   "metadata": {},
   "outputs": [],
   "source": [
    "5 ** 2   # exponent: 5 to the power of 2"
   ]
  },
  {
   "cell_type": "code",
   "execution_count": null,
   "id": "matched-politics",
   "metadata": {},
   "outputs": [],
   "source": [
    "2.0 ** 3"
   ]
  },
  {
   "cell_type": "markdown",
   "id": "internal-marks",
   "metadata": {},
   "source": [
    "## Order of Operation\n",
    "Precedence (Highest to lowest)\n",
    "1. Parenthesis \n",
    "2. Exponential \n",
    "3. Postive, Nagative\n",
    "4. Multiplication, Division, Remainder, Quotient\n",
    "5. Addition, Subtraction \n",
    "\n",
    "<b> * Same precedence: operations performed left to right <br>\n",
    "    * Parenthesis changes the order of opeartion \n",
    "<b>"
   ]
  },
  {
   "cell_type": "code",
   "execution_count": null,
   "id": "breathing-installation",
   "metadata": {},
   "outputs": [],
   "source": [
    "1 + 1 + 1 + 1 * 0  # multiplication comes before addition "
   ]
  },
  {
   "cell_type": "code",
   "execution_count": null,
   "id": "lined-substitute",
   "metadata": {},
   "outputs": [],
   "source": [
    "(1 + 1 + 1 + 1) * 0 # addition is performed first due to ()"
   ]
  },
  {
   "cell_type": "code",
   "execution_count": null,
   "id": "valued-python",
   "metadata": {},
   "outputs": [],
   "source": [
    "5 + 6 / 2 - 3  # division comes before addition and subtraction\n",
    "               # 5 + 3 - 3\n",
    "               # outcome is float, why?"
   ]
  },
  {
   "cell_type": "code",
   "execution_count": null,
   "id": "operating-peeing",
   "metadata": {},
   "outputs": [],
   "source": [
    "-5 ** 2 / 10 * 4  # always use paranthesis to avoid ambiguity!"
   ]
  },
  {
   "cell_type": "markdown",
   "id": "surgical-resistance",
   "metadata": {},
   "source": []
  },
  {
   "cell_type": "markdown",
   "id": "northern-collectible",
   "metadata": {},
   "source": [
    "## Hands-on Exercise 1: Operators & Order of Operation\n",
    "\n",
    "1. A farmer has 4 labs, 5 golden retrievers, 6 pugs, and 7 poodles. 3 kids volunteer to take care of the dogs during the weekend. To be fair, each kid gets the same number of dogs. a) How many dogs each kid gets? b) Are there any dogs left? If so, how many?"
   ]
  },
  {
   "cell_type": "code",
   "execution_count": null,
   "id": "impaired-torture",
   "metadata": {},
   "outputs": [],
   "source": []
  },
  {
   "cell_type": "code",
   "execution_count": null,
   "id": "structural-disclosure",
   "metadata": {},
   "outputs": [],
   "source": []
  },
  {
   "cell_type": "markdown",
   "id": "literary-indication",
   "metadata": {},
   "source": [
    "2. What is the remainder when 3<sup>283</sup> is divided by 5?"
   ]
  },
  {
   "cell_type": "code",
   "execution_count": null,
   "id": "worst-tongue",
   "metadata": {},
   "outputs": [],
   "source": []
  },
  {
   "cell_type": "markdown",
   "id": "dietary-watson",
   "metadata": {},
   "source": [
    "## Augmented Assignment Operators \n",
    "- Add and Assign: x<b> += </b>y  <br>\n",
    "- Subtract and Assign: x<b> -= </b>y  <br>\n",
    "- Multiply and Assign: x<b> *= </b>y  <br>\n",
    "- Divide and Assign: x<b> /= </b>y  <br>\n",
    "- Floor Divide and Assign: x<b> //= </b>y  <br>\n",
    "- Modulus and Assign: x<b> %= </b>y  <br>\n",
    "- Exponent and Assign: x<b> **= </b>y  <br>"
   ]
  },
  {
   "cell_type": "code",
   "execution_count": null,
   "id": "activated-familiar",
   "metadata": {},
   "outputs": [],
   "source": [
    "a = 20\n",
    "b = 10\n",
    "# a = a + b \n",
    "# write the augmented assignment form below\n",
    "\n",
    "print(a)"
   ]
  },
  {
   "cell_type": "code",
   "execution_count": null,
   "id": "olympic-component",
   "metadata": {},
   "outputs": [],
   "source": [
    "a = 20\n",
    "b = 10\n",
    "# a = a / b\n",
    "# write the augmented assignment form below\n",
    "\n",
    "print(a)"
   ]
  },
  {
   "cell_type": "code",
   "execution_count": null,
   "id": "hollywood-hours",
   "metadata": {},
   "outputs": [],
   "source": [
    "a = 3\n",
    "b = 2.0\n",
    "# a = a ** b\n",
    "# write the augmented assignment form below\n",
    "\n",
    "print(a)"
   ]
  },
  {
   "cell_type": "code",
   "execution_count": null,
   "id": "fitting-anaheim",
   "metadata": {},
   "outputs": [],
   "source": [
    "a = 20\n",
    "b = 10\n",
    "c = 2\n",
    "# a = a * (b + c)\n",
    "# write the augmented assignment form below\n",
    "\n",
    "print(a)"
   ]
  },
  {
   "cell_type": "code",
   "execution_count": null,
   "id": "worthy-delivery",
   "metadata": {},
   "outputs": [],
   "source": [
    "a = 20\n",
    "b = 10\n",
    "c = 2\n",
    "# a = a * b + c\n",
    "#   can we use only one augumented assignment operator to do this? \n",
    "\n",
    "print(a)"
   ]
  },
  {
   "cell_type": "code",
   "execution_count": null,
   "id": "pacific-catalyst",
   "metadata": {},
   "outputs": [],
   "source": []
  }
 ],
 "metadata": {
  "kernelspec": {
   "display_name": "Python 3",
   "language": "python",
   "name": "python3"
  },
  "language_info": {
   "codemirror_mode": {
    "name": "ipython",
    "version": 3
   },
   "file_extension": ".py",
   "mimetype": "text/x-python",
   "name": "python",
   "nbconvert_exporter": "python",
   "pygments_lexer": "ipython3",
   "version": "3.9.1"
  }
 },
 "nbformat": 4,
 "nbformat_minor": 5
}
