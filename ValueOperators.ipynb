{
 "cells": [
  {
   "cell_type": "markdown",
   "id": "reflected-module",
   "metadata": {},
   "source": [
    "# Value and Operators "
   ]
  },
  {
   "cell_type": "markdown",
   "id": "surgical-wrist",
   "metadata": {},
   "source": [
    "## Every value has a type\n",
    "- Every value in a program has a specific type\n",
    "- Integer (<b>int</b>): represents positive or negative whole numbers like 3 or -5\n",
    "- Floating point number (<b>float</b>): represents real numbers like 3.14 or -2.5"
   ]
  },
  {
   "cell_type": "markdown",
   "id": "filled-massachusetts",
   "metadata": {},
   "source": [
    "## Operators\n",
    "$+$ addition <br>\n",
    "$-$ subtraction <br>\n",
    "$*$ multiplication <br>"
   ]
  },
  {
   "cell_type": "markdown",
   "id": "painful-folder",
   "metadata": {},
   "source": [
    "## Exercise "
   ]
  },
  {
   "cell_type": "code",
   "execution_count": 2,
   "id": "hairy-lounge",
   "metadata": {},
   "outputs": [
    {
     "data": {
      "text/plain": [
       "8"
      ]
     },
     "execution_count": 2,
     "metadata": {},
     "output_type": "execute_result"
    }
   ],
   "source": [
    "3 + 5"
   ]
  },
  {
   "cell_type": "code",
   "execution_count": null,
   "id": "tested-membership",
   "metadata": {},
   "outputs": [],
   "source": [
    "# sum 3.0 and 5"
   ]
  },
  {
   "cell_type": "code",
   "execution_count": null,
   "id": "studied-adult",
   "metadata": {},
   "outputs": [],
   "source": []
  }
 ],
 "metadata": {
  "kernelspec": {
   "display_name": "Python 3",
   "language": "python",
   "name": "python3"
  },
  "language_info": {
   "codemirror_mode": {
    "name": "ipython",
    "version": 3
   },
   "file_extension": ".py",
   "mimetype": "text/x-python",
   "name": "python",
   "nbconvert_exporter": "python",
   "pygments_lexer": "ipython3",
   "version": "3.9.1"
  }
 },
 "nbformat": 4,
 "nbformat_minor": 5
}
